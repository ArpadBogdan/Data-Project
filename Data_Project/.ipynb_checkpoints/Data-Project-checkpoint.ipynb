{
 "cells": [
  {
   "cell_type": "code",
   "execution_count": 1,
   "metadata": {
    "editable": true,
    "slideshow": {
     "slide_type": "skip"
    },
    "tags": []
   },
   "outputs": [],
   "source": [
    "import os\n",
    "import geopandas as gp\n",
    "import shapely\n",
    "import fiona\n",
    "import matplotlib\n",
    "import matplotlib.pyplot as plt\n",
    "import numpy as np\n",
    "import pandas as pd\n",
    "from datetime import datetime"
   ]
  },
  {
   "cell_type": "code",
   "execution_count": 2,
   "metadata": {
    "editable": true,
    "slideshow": {
     "slide_type": "skip"
    },
    "tags": []
   },
   "outputs": [],
   "source": [
    "#Setting plot size\n",
    "%matplotlib inline\n",
    "plt.rcParams['figure.figsize'] = (20, 10)"
   ]
  },
  {
   "cell_type": "code",
   "execution_count": null,
   "metadata": {
    "collapsed": true,
    "editable": true,
    "jupyter": {
     "outputs_hidden": true
    },
    "scrolled": true,
    "slideshow": {
     "slide_type": "skip"
    },
    "tags": []
   },
   "outputs": [
    {
     "name": "stdout",
     "output_type": "stream",
     "text": [
      "loading from file\n",
      "done\n"
     ]
    }
   ],
   "source": [
    "#Loading NSW map data\n",
    "shp_file_name = \"nsw_localities.shp\"\n",
    "zip_file_name = \"nsw_locality_polygon_shp.zip\"\n",
    "web_file_path = (\n",
    "    \"https://data.gov.au/data/dataset/91e70237-d9d1-4719-a82f-e71b811154c6/resource/89af4ef8-7d45-4535-be38-221025695900/download/nsw_loc_gda2020.zip\"\n",
    ")\n",
    "\n",
    "def unzip_zipfile(zipped_file_path, put_it_here=\".\"):\n",
    "    import zipfile\n",
    "    zip_of_suburbs = zipfile.ZipFile(zipped_file_path, 'r')\n",
    "    zip_of_suburbs.extractall(put_it_here)\n",
    "    zip_of_suburbs.close()\n",
    "\n",
    "if os.path.isfile(shp_file_name):\n",
    "    print(\"loading from file\")\n",
    "else:\n",
    "    if os.path.isfile(zip_file_name):\n",
    "        print(\"unzipping\")\n",
    "        unzip_zipfile(zip_file_name)\n",
    "    else:\n",
    "        import requests\n",
    "        print(\"loading from the internet\")\n",
    "        page = requests.get(web_file_path)\n",
    "        with open(zip_file_name, 'wb') as z:\n",
    "            z.write(page.content)\n",
    "        unzip_zipfile(zip_file_name)\n",
    "\n",
    "print(\"done\")\n",
    "\n",
    "burbs = gp.GeoDataFrame.from_file(shp_file_name)\n",
    "burbs.set_crs(epsg=5234, inplace=True, allow_override=True) \n",
    "burbs.sample(2)\n"
   ]
  },
  {
   "cell_type": "code",
   "execution_count": null,
   "metadata": {
    "editable": true,
    "slideshow": {
     "slide_type": "skip"
    },
    "tags": []
   },
   "outputs": [],
   "source": [
    "#Loading Airbnb listing data\n",
    "if os.path.isfile(\"listings.csv\"):\n",
    "    filepath = \"listings.csv\"\n",
    "    print(\"loading from file\")\n",
    "else:\n",
    "    filepath = \"\"\n",
    "    print(\"loading from the internet\")\n",
    "\n",
    "listing_data = pd.read_csv(filepath)\n",
    "print(\"done\")"
   ]
  },
  {
   "cell_type": "code",
   "execution_count": null,
   "metadata": {
    "editable": true,
    "slideshow": {
     "slide_type": "skip"
    },
    "tags": []
   },
   "outputs": [],
   "source": [
    "def add_centroid(row):\n",
    "    return row.geometry.centroid\n",
    "\n",
    "burbs[\"centroid\"] = burbs.apply(add_centroid, axis=1)"
   ]
  },
  {
   "cell_type": "code",
   "execution_count": null,
   "metadata": {
    "editable": true,
    "slideshow": {
     "slide_type": "slide"
    },
    "tags": []
   },
   "outputs": [],
   "source": [
    "\n",
    "#Defining point on Opera House\n",
    "right_here = shapely.geometry.point.Point(151.215135, -33.857062)\n",
    "burbs[\"distance_from_opera_house\"] = burbs.centroid.distance(right_here)\n",
    "\n",
    "sydney_area = burbs[burbs.distance_from_opera_house < 0.7]\n",
    "sydney_area.plot(color = 'lightgrey')\n",
    "\n",
    "plt.title(\"Sydney Area\", fontsize=15)\n",
    "\n"
   ]
  },
  {
   "cell_type": "code",
   "execution_count": null,
   "metadata": {
    "editable": true,
    "slideshow": {
     "slide_type": "skip"
    },
    "tags": []
   },
   "outputs": [],
   "source": [
    "#What this does is it takes the listing CSV which we have, goes in there takes the Latitude and Longitude values, and it creates a new column called Geometry which is what Geopandas can interpret as a point on the map. The power of this is it did it automatically for all 20000+ rows\n",
    "listing_data_geo = gp.GeoDataFrame(listing_data, geometry = gp.points_from_xy(listing_data.longitude,listing_data.latitude))"
   ]
  },
  {
   "cell_type": "code",
   "execution_count": null,
   "metadata": {
    "editable": true,
    "scrolled": true,
    "slideshow": {
     "slide_type": "slide"
    },
    "tags": []
   },
   "outputs": [],
   "source": [
    "#Plotting the Sydney map\n",
    "axis = sydney_area.plot(\n",
    "    color = 'lightgrey', #edgecolor = 'white'\n",
    ")\n",
    "\n",
    "#Plotting the points of Airbnb listings\n",
    "listing_data_geo.plot(ax = axis, color = 'black', markersize=0.25)\n",
    "\n",
    "plt.title(\"Sydney Area With Airbnb Listings\", fontsize=15)\n",
    "\n"
   ]
  },
  {
   "cell_type": "code",
   "execution_count": null,
   "metadata": {
    "editable": true,
    "slideshow": {
     "slide_type": "skip"
    },
    "tags": []
   },
   "outputs": [],
   "source": [
    "#Setting the CRS on listing_data_geo\n",
    "listing_data_geo.set_crs(epsg=5234, inplace=True, allow_override=True)\n",
    "\n",
    "listing_data_geo.sample(1)"
   ]
  },
  {
   "cell_type": "code",
   "execution_count": null,
   "metadata": {
    "editable": true,
    "slideshow": {
     "slide_type": "skip"
    },
    "tags": []
   },
   "outputs": [],
   "source": [
    "#This operation took a long time to find and wrap my head around it, but to my knowledge what this does it take listing_data_geo(Airbnb listings with specified points) and sydney_area(map of Sydney) and it joins them based on their location, which is specified to be within, hence the name SpacialJoin aka. sjoin\n",
    "states_with_listings = gp.sjoin(listing_data_geo, sydney_area, how='inner', predicate='within')"
   ]
  },
  {
   "cell_type": "code",
   "execution_count": null,
   "metadata": {
    "editable": true,
    "slideshow": {
     "slide_type": "skip"
    },
    "tags": []
   },
   "outputs": [],
   "source": [
    "#There are Airbnb listings in 582 different suburbs in Sydney out of the 658 (infromation from the internet)\n",
    "states_with_listings.value_counts(\"LOC_NAME\")"
   ]
  },
  {
   "cell_type": "code",
   "execution_count": null,
   "metadata": {
    "editable": true,
    "slideshow": {
     "slide_type": "skip"
    },
    "tags": []
   },
   "outputs": [],
   "source": [
    "#There are a total of 23441 listings in Sydney\n",
    "states_with_listings.LOC_NAME.count()"
   ]
  },
  {
   "cell_type": "code",
   "execution_count": null,
   "metadata": {
    "editable": true,
    "slideshow": {
     "slide_type": "skip"
    },
    "tags": []
   },
   "outputs": [],
   "source": [
    "#Defineds what listing_count is, and adds a new column to states_with_listings, which includes Listing_Count\n",
    "listing_count = states_with_listings[\"LOC_NAME\"].value_counts()\n",
    "\n",
    "states_with_listings[\"Listing_Count\"] = states_with_listings[\"LOC_NAME\"].map(listing_count)"
   ]
  },
  {
   "cell_type": "code",
   "execution_count": null,
   "metadata": {
    "editable": true,
    "slideshow": {
     "slide_type": "skip"
    },
    "tags": []
   },
   "outputs": [],
   "source": [
    "#I don't really understand how this works, but it gives me an accurate choropleth map. I tried so many different operations to merge the Listing_Count with sydney_area(map of Sydeny), and I tried this to see if it would work, and it does, not in the prettiest way, there is probably a way which I don't know about that would be easier, and prettier, and more useful, but I can not find any.\n",
    "listing_count_suburbs = sydney_area.join(states_with_listings.set_index(\"LOC_NAME\"), on='LOC_NAME', how='inner', rsuffix=\"LOC_NAME\" )\n"
   ]
  },
  {
   "cell_type": "code",
   "execution_count": null,
   "metadata": {
    "editable": true,
    "slideshow": {
     "slide_type": "slide"
    },
    "tags": []
   },
   "outputs": [],
   "source": [
    "listing_count_suburbs.plot(column=\"Listing_Count\", cmap='plasma', legend=True, legend_kwds={\"label\": \"Airbnb Listing Amount\"})\n",
    "\n",
    "plt.title(\"Sydney Area With Airbnb Listings\", fontsize=15)\n"
   ]
  },
  {
   "cell_type": "code",
   "execution_count": null,
   "metadata": {
    "editable": true,
    "slideshow": {
     "slide_type": "slide"
    },
    "tags": []
   },
   "outputs": [],
   "source": [
    "states_with_listings.LOC_NAME.value_counts().plot(kind=\"bar\")\n",
    "\n",
    "plt.title(\"Number of Airbnb Listings in Suburbs\", fontsize=30)\n",
    "plt.xlabel(\"Suburbs\", fontsize=20)\n",
    "plt.ylabel(\"Airbnb Listings\", fontsize=20)"
   ]
  },
  {
   "cell_type": "code",
   "execution_count": null,
   "metadata": {
    "editable": true,
    "slideshow": {
     "slide_type": "slide"
    },
    "tags": []
   },
   "outputs": [],
   "source": [
    "states_with_listings.LOC_NAME.value_counts()[states_with_listings.LOC_NAME.value_counts() > 50].plot(kind=\"bar\")\n",
    "\n",
    "plt.title(\"Number of Airbnb Listings in Suburbs Above 50 Listings\", fontsize=30)\n",
    "plt.xlabel(\"Suburbs\", fontsize=20)\n",
    "plt.ylabel(\"Airbnb Listings\", fontsize=20)\n",
    "plt.grid(True)"
   ]
  },
  {
   "cell_type": "code",
   "execution_count": null,
   "metadata": {
    "editable": true,
    "slideshow": {
     "slide_type": "slide"
    },
    "tags": []
   },
   "outputs": [],
   "source": [
    "states_with_listings.LOC_NAME.value_counts()[states_with_listings.LOC_NAME.value_counts() > 500].plot(kind=\"bar\")\n",
    "\n",
    "plt.title(\"Number of Airbnb Listings in Suburbs Above 500 Listings\", fontsize=30)\n",
    "plt.xlabel(\"Suburbs\", fontsize=12)\n",
    "plt.ylabel(\"Airbnb Listings\", fontsize=12)\n"
   ]
  },
  {
   "cell_type": "code",
   "execution_count": null,
   "metadata": {
    "editable": true,
    "slideshow": {
     "slide_type": "slide"
    },
    "tags": []
   },
   "outputs": [],
   "source": [
    "axis = burbs[burbs.LOC_NAME == \"Bondi Beach\"].plot(color = 'lightgrey',  edgecolor = 'black')\n",
    "\n",
    "states_with_listings[states_with_listings.LOC_NAME == 'Bondi Beach'].plot(ax = axis, color = 'black', markersize=10)\n",
    "\n",
    "axis.set_axis_off()\n",
    "\n",
    "plt.title(\"Airbnb Locations in Bondi Beach\", fontsize=15)"
   ]
  },
  {
   "cell_type": "code",
   "execution_count": null,
   "metadata": {
    "editable": true,
    "slideshow": {
     "slide_type": "slide"
    },
    "tags": []
   },
   "outputs": [],
   "source": [
    "axis = burbs[burbs.LOC_NAME == \"Bondi Beach\"].plot(color = 'lightgrey',  edgecolor = 'black')\n",
    "\n",
    "states_with_listings[states_with_listings.LOC_NAME == 'Bondi Beach'].plot(column=\"review_scores_rating\", ax = axis, markersize=20, cmap='plasma', legend=True, legend_kwds={\"label\": \"Ratings\"})\n",
    "\n",
    "axis.set_axis_off()\n",
    "\n",
    "plt.title(\"Airbnb Locations in Bondi Beach Colored Based on Review Scores Ratings\", fontsize=15)"
   ]
  },
  {
   "cell_type": "code",
   "execution_count": null,
   "metadata": {
    "editable": true,
    "slideshow": {
     "slide_type": "slide"
    },
    "tags": []
   },
   "outputs": [],
   "source": [
    "axis = burbs[burbs.LOC_NAME == \"Bondi Beach\"].plot(color = 'lightgrey',  edgecolor = 'black')\n",
    "\n",
    "states_with_listings[states_with_listings.LOC_NAME == 'Bondi Beach'].plot(column=\"review_scores_value\", ax = axis, markersize=20, cmap='plasma', legend=True, legend_kwds={\"label\": \"Ratings\"})\n",
    "\n",
    "axis.set_axis_off()\n",
    "\n",
    "plt.title(\"Airbnb Locations in Bondi Beach Colored Based on Review Socre Value\", fontsize=15)"
   ]
  },
  {
   "cell_type": "code",
   "execution_count": null,
   "metadata": {
    "editable": true,
    "slideshow": {
     "slide_type": "slide"
    },
    "tags": []
   },
   "outputs": [],
   "source": [
    "axis = burbs[burbs.LOC_NAME == \"Bondi Beach\"].plot(color = 'lightgrey',  edgecolor = 'black')\n",
    "\n",
    "states_with_listings[states_with_listings.LOC_NAME == 'Bondi Beach'].plot(column=\"review_scores_location\", ax = axis, markersize=20, cmap='plasma', legend=True, legend_kwds={\"label\": \"Ratings\"})\n",
    "\n",
    "axis.set_axis_off()\n",
    "\n",
    "plt.title(\"Airbnb Locations in Bondi Beach Colored Based on Location Ratings\", fontsize=15)"
   ]
  }
 ],
 "metadata": {
  "kernelspec": {
   "display_name": "Python 3 (ipykernel)",
   "language": "python",
   "name": "python3"
  },
  "language_info": {
   "codemirror_mode": {
    "name": "ipython",
    "version": 3
   },
   "file_extension": ".py",
   "mimetype": "text/x-python",
   "name": "python",
   "nbconvert_exporter": "python",
   "pygments_lexer": "ipython3",
   "version": "3.10.8"
  }
 },
 "nbformat": 4,
 "nbformat_minor": 4
}
